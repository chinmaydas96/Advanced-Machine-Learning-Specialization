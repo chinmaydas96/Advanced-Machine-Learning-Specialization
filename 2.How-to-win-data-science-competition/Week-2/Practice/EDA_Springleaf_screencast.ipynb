{
 "cells": [
  {
   "cell_type": "markdown",
   "metadata": {},
   "source": [
    "This is a notebook, used in the screencast video. Note, that the data files are not present here in Jupyter hub and you will not be able to run it. But you can always download the notebook to your local machine as well as the competition data and make it interactive. "
   ]
  },
  {
   "cell_type": "code",
   "execution_count": 1,
   "metadata": {
    "ExecuteTime": {
     "end_time": "2022-05-25T18:11:31.142454Z",
     "start_time": "2022-05-25T18:11:24.399843Z"
    }
   },
   "outputs": [],
   "source": [
    "import os\n",
    "import numpy as np\n",
    "import pandas as pd \n",
    "from tqdm import tqdm_notebook\n",
    "import matplotlib.pyplot as plt\n",
    "%matplotlib inline\n",
    "\n",
    "import warnings\n",
    "warnings.filterwarnings('ignore')\n",
    "\n",
    "import seaborn"
   ]
  },
  {
   "cell_type": "code",
   "execution_count": 37,
   "metadata": {
    "ExecuteTime": {
     "end_time": "2022-05-26T15:24:51.416649Z",
     "start_time": "2022-05-26T15:24:51.402881Z"
    }
   },
   "outputs": [],
   "source": [
    "def autolabel(arrayA):\n",
    "    ''' label each colored square with the corresponding data value. \n",
    "    If value > 20, the text is in black, else in white.\n",
    "    '''\n",
    "    arrayA = np.array(arrayA)\n",
    "    for i in range(arrayA.shape[0]):\n",
    "        for j in range(arrayA.shape[1]):\n",
    "                plt.text(j,i, \"%.2f\"%arrayA[i,j], ha='center', va='bottom',color='w')\n",
    "\n",
    "def hist_it(feat):\n",
    "    plt.figure(figsize=(16,4))\n",
    "    feat[Y==0].hist(bins=range(int(feat.min()),int(feat.max()+2)),density=True, stacked=True,alpha=0.8)\n",
    "    feat[Y==1].hist(bins=range(int(feat.min()),int(feat.max()+2)),density=True, stacked=True,alpha=0.5)\n",
    "    plt.ylim((0,1))\n",
    "    \n",
    "def gt_matrix(feats,sz=16):\n",
    "    a = []\n",
    "    for i,c1 in enumerate(feats):\n",
    "        b = [] \n",
    "        for j,c2 in enumerate(feats):\n",
    "            mask = (~train[c1].isnull()) & (~train[c2].isnull())\n",
    "            if i>=j:\n",
    "                b.append((train.loc[mask,c1].values>=train.loc[mask,c2].values).mean())\n",
    "            else:\n",
    "                b.append((train.loc[mask,c1].values>train.loc[mask,c2].values).mean())\n",
    "\n",
    "        a.append(b)\n",
    "\n",
    "    plt.figure(figsize = (sz,sz))\n",
    "    plt.imshow(a, interpolation = 'None')\n",
    "    _ = plt.xticks(range(len(feats)),feats,rotation = 90)\n",
    "    _ = plt.yticks(range(len(feats)),feats,rotation = 0)\n",
    "    autolabel(a)"
   ]
  },
  {
   "cell_type": "code",
   "execution_count": 35,
   "metadata": {
    "ExecuteTime": {
     "end_time": "2022-05-26T15:24:12.332786Z",
     "start_time": "2022-05-26T15:24:12.327375Z"
    }
   },
   "outputs": [],
   "source": [
    "def hist_it1(feat):\n",
    "    plt.figure(figsize=(16,4))\n",
    "    feat[Y==0].hist(bins=100,range=(feat.min(),feat.max()),density=True, stacked=True,alpha=0.5)\n",
    "    feat[Y==1].hist(bins=100,range=(feat.min(),feat.max()),density=True, stacked=True,alpha=0.5)\n",
    "    plt.ylim((0,1))"
   ]
  },
  {
   "cell_type": "markdown",
   "metadata": {},
   "source": [
    "# Read the data"
   ]
  },
  {
   "cell_type": "code",
   "execution_count": 5,
   "metadata": {
    "ExecuteTime": {
     "end_time": "2022-05-25T18:21:26.987499Z",
     "start_time": "2022-05-25T18:20:08.100739Z"
    }
   },
   "outputs": [],
   "source": [
    "train = pd.read_csv('train.csv.zip')\n",
    "Y = train.target"
   ]
  },
  {
   "cell_type": "code",
   "execution_count": 6,
   "metadata": {
    "ExecuteTime": {
     "end_time": "2022-05-25T18:22:53.736530Z",
     "start_time": "2022-05-25T18:21:27.024326Z"
    }
   },
   "outputs": [],
   "source": [
    "test = pd.read_csv('test.csv.zip')\n",
    "test_ID = test.ID"
   ]
  },
  {
   "cell_type": "markdown",
   "metadata": {},
   "source": [
    "# Data overview"
   ]
  },
  {
   "cell_type": "markdown",
   "metadata": {},
   "source": [
    "Probably the first thing you check is the shapes of the train and test matrices and look inside them."
   ]
  },
  {
   "cell_type": "code",
   "execution_count": 8,
   "metadata": {
    "ExecuteTime": {
     "end_time": "2022-05-25T18:30:30.025320Z",
     "start_time": "2022-05-25T18:30:30.013283Z"
    }
   },
   "outputs": [
    {
     "name": "stdout",
     "output_type": "stream",
     "text": [
      "Train shape (145231, 1934)\n",
      "Test shape (145232, 1933)\n"
     ]
    }
   ],
   "source": [
    "print('Train shape', train.shape)\n",
    "print ('Test shape',  test.shape)"
   ]
  },
  {
   "cell_type": "code",
   "execution_count": 9,
   "metadata": {
    "ExecuteTime": {
     "end_time": "2022-05-25T18:30:32.336310Z",
     "start_time": "2022-05-25T18:30:32.125648Z"
    }
   },
   "outputs": [
    {
     "data": {
      "text/html": [
       "<div>\n",
       "<style scoped>\n",
       "    .dataframe tbody tr th:only-of-type {\n",
       "        vertical-align: middle;\n",
       "    }\n",
       "\n",
       "    .dataframe tbody tr th {\n",
       "        vertical-align: top;\n",
       "    }\n",
       "\n",
       "    .dataframe thead th {\n",
       "        text-align: right;\n",
       "    }\n",
       "</style>\n",
       "<table border=\"1\" class=\"dataframe\">\n",
       "  <thead>\n",
       "    <tr style=\"text-align: right;\">\n",
       "      <th></th>\n",
       "      <th>ID</th>\n",
       "      <th>VAR_0001</th>\n",
       "      <th>VAR_0002</th>\n",
       "      <th>VAR_0003</th>\n",
       "      <th>VAR_0004</th>\n",
       "      <th>VAR_0005</th>\n",
       "      <th>VAR_0006</th>\n",
       "      <th>VAR_0007</th>\n",
       "      <th>VAR_0008</th>\n",
       "      <th>VAR_0009</th>\n",
       "      <th>...</th>\n",
       "      <th>VAR_1926</th>\n",
       "      <th>VAR_1927</th>\n",
       "      <th>VAR_1928</th>\n",
       "      <th>VAR_1929</th>\n",
       "      <th>VAR_1930</th>\n",
       "      <th>VAR_1931</th>\n",
       "      <th>VAR_1932</th>\n",
       "      <th>VAR_1933</th>\n",
       "      <th>VAR_1934</th>\n",
       "      <th>target</th>\n",
       "    </tr>\n",
       "  </thead>\n",
       "  <tbody>\n",
       "    <tr>\n",
       "      <th>0</th>\n",
       "      <td>2</td>\n",
       "      <td>H</td>\n",
       "      <td>224</td>\n",
       "      <td>0</td>\n",
       "      <td>4300</td>\n",
       "      <td>C</td>\n",
       "      <td>0.0</td>\n",
       "      <td>0.0</td>\n",
       "      <td>False</td>\n",
       "      <td>False</td>\n",
       "      <td>...</td>\n",
       "      <td>98</td>\n",
       "      <td>98</td>\n",
       "      <td>998</td>\n",
       "      <td>999999998</td>\n",
       "      <td>998</td>\n",
       "      <td>998</td>\n",
       "      <td>9998</td>\n",
       "      <td>9998</td>\n",
       "      <td>IAPS</td>\n",
       "      <td>0</td>\n",
       "    </tr>\n",
       "    <tr>\n",
       "      <th>1</th>\n",
       "      <td>4</td>\n",
       "      <td>H</td>\n",
       "      <td>7</td>\n",
       "      <td>53</td>\n",
       "      <td>4448</td>\n",
       "      <td>B</td>\n",
       "      <td>1.0</td>\n",
       "      <td>0.0</td>\n",
       "      <td>False</td>\n",
       "      <td>False</td>\n",
       "      <td>...</td>\n",
       "      <td>98</td>\n",
       "      <td>98</td>\n",
       "      <td>998</td>\n",
       "      <td>999999998</td>\n",
       "      <td>998</td>\n",
       "      <td>998</td>\n",
       "      <td>9998</td>\n",
       "      <td>9998</td>\n",
       "      <td>IAPS</td>\n",
       "      <td>0</td>\n",
       "    </tr>\n",
       "    <tr>\n",
       "      <th>2</th>\n",
       "      <td>5</td>\n",
       "      <td>H</td>\n",
       "      <td>116</td>\n",
       "      <td>3</td>\n",
       "      <td>3464</td>\n",
       "      <td>C</td>\n",
       "      <td>0.0</td>\n",
       "      <td>0.0</td>\n",
       "      <td>False</td>\n",
       "      <td>False</td>\n",
       "      <td>...</td>\n",
       "      <td>98</td>\n",
       "      <td>98</td>\n",
       "      <td>998</td>\n",
       "      <td>999999998</td>\n",
       "      <td>998</td>\n",
       "      <td>998</td>\n",
       "      <td>9998</td>\n",
       "      <td>9998</td>\n",
       "      <td>IAPS</td>\n",
       "      <td>0</td>\n",
       "    </tr>\n",
       "    <tr>\n",
       "      <th>3</th>\n",
       "      <td>7</td>\n",
       "      <td>H</td>\n",
       "      <td>240</td>\n",
       "      <td>300</td>\n",
       "      <td>3200</td>\n",
       "      <td>C</td>\n",
       "      <td>0.0</td>\n",
       "      <td>0.0</td>\n",
       "      <td>False</td>\n",
       "      <td>False</td>\n",
       "      <td>...</td>\n",
       "      <td>98</td>\n",
       "      <td>98</td>\n",
       "      <td>998</td>\n",
       "      <td>999999998</td>\n",
       "      <td>998</td>\n",
       "      <td>998</td>\n",
       "      <td>9998</td>\n",
       "      <td>9998</td>\n",
       "      <td>RCC</td>\n",
       "      <td>0</td>\n",
       "    </tr>\n",
       "    <tr>\n",
       "      <th>4</th>\n",
       "      <td>8</td>\n",
       "      <td>R</td>\n",
       "      <td>72</td>\n",
       "      <td>261</td>\n",
       "      <td>2000</td>\n",
       "      <td>N</td>\n",
       "      <td>0.0</td>\n",
       "      <td>0.0</td>\n",
       "      <td>False</td>\n",
       "      <td>False</td>\n",
       "      <td>...</td>\n",
       "      <td>98</td>\n",
       "      <td>98</td>\n",
       "      <td>998</td>\n",
       "      <td>999999998</td>\n",
       "      <td>998</td>\n",
       "      <td>998</td>\n",
       "      <td>9998</td>\n",
       "      <td>9998</td>\n",
       "      <td>BRANCH</td>\n",
       "      <td>1</td>\n",
       "    </tr>\n",
       "  </tbody>\n",
       "</table>\n",
       "<p>5 rows × 1934 columns</p>\n",
       "</div>"
      ],
      "text/plain": [
       "   ID VAR_0001  VAR_0002  VAR_0003  VAR_0004 VAR_0005  VAR_0006  VAR_0007  \\\n",
       "0   2        H       224         0      4300        C       0.0       0.0   \n",
       "1   4        H         7        53      4448        B       1.0       0.0   \n",
       "2   5        H       116         3      3464        C       0.0       0.0   \n",
       "3   7        H       240       300      3200        C       0.0       0.0   \n",
       "4   8        R        72       261      2000        N       0.0       0.0   \n",
       "\n",
       "  VAR_0008 VAR_0009  ... VAR_1926 VAR_1927 VAR_1928   VAR_1929  VAR_1930  \\\n",
       "0    False    False  ...       98       98      998  999999998       998   \n",
       "1    False    False  ...       98       98      998  999999998       998   \n",
       "2    False    False  ...       98       98      998  999999998       998   \n",
       "3    False    False  ...       98       98      998  999999998       998   \n",
       "4    False    False  ...       98       98      998  999999998       998   \n",
       "\n",
       "   VAR_1931  VAR_1932  VAR_1933  VAR_1934  target  \n",
       "0       998      9998      9998      IAPS       0  \n",
       "1       998      9998      9998      IAPS       0  \n",
       "2       998      9998      9998      IAPS       0  \n",
       "3       998      9998      9998       RCC       0  \n",
       "4       998      9998      9998    BRANCH       1  \n",
       "\n",
       "[5 rows x 1934 columns]"
      ]
     },
     "execution_count": 9,
     "metadata": {},
     "output_type": "execute_result"
    }
   ],
   "source": [
    "train.head()"
   ]
  },
  {
   "cell_type": "code",
   "execution_count": 10,
   "metadata": {
    "ExecuteTime": {
     "end_time": "2022-05-25T18:30:32.771959Z",
     "start_time": "2022-05-25T18:30:32.729789Z"
    },
    "scrolled": true
   },
   "outputs": [
    {
     "data": {
      "text/html": [
       "<div>\n",
       "<style scoped>\n",
       "    .dataframe tbody tr th:only-of-type {\n",
       "        vertical-align: middle;\n",
       "    }\n",
       "\n",
       "    .dataframe tbody tr th {\n",
       "        vertical-align: top;\n",
       "    }\n",
       "\n",
       "    .dataframe thead th {\n",
       "        text-align: right;\n",
       "    }\n",
       "</style>\n",
       "<table border=\"1\" class=\"dataframe\">\n",
       "  <thead>\n",
       "    <tr style=\"text-align: right;\">\n",
       "      <th></th>\n",
       "      <th>ID</th>\n",
       "      <th>VAR_0001</th>\n",
       "      <th>VAR_0002</th>\n",
       "      <th>VAR_0003</th>\n",
       "      <th>VAR_0004</th>\n",
       "      <th>VAR_0005</th>\n",
       "      <th>VAR_0006</th>\n",
       "      <th>VAR_0007</th>\n",
       "      <th>VAR_0008</th>\n",
       "      <th>VAR_0009</th>\n",
       "      <th>...</th>\n",
       "      <th>VAR_1925</th>\n",
       "      <th>VAR_1926</th>\n",
       "      <th>VAR_1927</th>\n",
       "      <th>VAR_1928</th>\n",
       "      <th>VAR_1929</th>\n",
       "      <th>VAR_1930</th>\n",
       "      <th>VAR_1931</th>\n",
       "      <th>VAR_1932</th>\n",
       "      <th>VAR_1933</th>\n",
       "      <th>VAR_1934</th>\n",
       "    </tr>\n",
       "  </thead>\n",
       "  <tbody>\n",
       "    <tr>\n",
       "      <th>0</th>\n",
       "      <td>1</td>\n",
       "      <td>R</td>\n",
       "      <td>360</td>\n",
       "      <td>25</td>\n",
       "      <td>2251</td>\n",
       "      <td>B</td>\n",
       "      <td>2.0</td>\n",
       "      <td>2.0</td>\n",
       "      <td>False</td>\n",
       "      <td>False</td>\n",
       "      <td>...</td>\n",
       "      <td>0</td>\n",
       "      <td>98</td>\n",
       "      <td>98</td>\n",
       "      <td>998</td>\n",
       "      <td>999999998</td>\n",
       "      <td>998</td>\n",
       "      <td>998</td>\n",
       "      <td>9998</td>\n",
       "      <td>9998</td>\n",
       "      <td>IAPS</td>\n",
       "    </tr>\n",
       "    <tr>\n",
       "      <th>1</th>\n",
       "      <td>3</td>\n",
       "      <td>R</td>\n",
       "      <td>74</td>\n",
       "      <td>192</td>\n",
       "      <td>3274</td>\n",
       "      <td>C</td>\n",
       "      <td>2.0</td>\n",
       "      <td>3.0</td>\n",
       "      <td>False</td>\n",
       "      <td>False</td>\n",
       "      <td>...</td>\n",
       "      <td>0</td>\n",
       "      <td>98</td>\n",
       "      <td>98</td>\n",
       "      <td>998</td>\n",
       "      <td>999999998</td>\n",
       "      <td>998</td>\n",
       "      <td>998</td>\n",
       "      <td>9998</td>\n",
       "      <td>9998</td>\n",
       "      <td>IAPS</td>\n",
       "    </tr>\n",
       "    <tr>\n",
       "      <th>2</th>\n",
       "      <td>6</td>\n",
       "      <td>R</td>\n",
       "      <td>21</td>\n",
       "      <td>36</td>\n",
       "      <td>3500</td>\n",
       "      <td>C</td>\n",
       "      <td>1.0</td>\n",
       "      <td>1.0</td>\n",
       "      <td>False</td>\n",
       "      <td>False</td>\n",
       "      <td>...</td>\n",
       "      <td>0</td>\n",
       "      <td>98</td>\n",
       "      <td>98</td>\n",
       "      <td>998</td>\n",
       "      <td>999999998</td>\n",
       "      <td>998</td>\n",
       "      <td>998</td>\n",
       "      <td>9998</td>\n",
       "      <td>9998</td>\n",
       "      <td>IAPS</td>\n",
       "    </tr>\n",
       "    <tr>\n",
       "      <th>3</th>\n",
       "      <td>9</td>\n",
       "      <td>R</td>\n",
       "      <td>8</td>\n",
       "      <td>2</td>\n",
       "      <td>1500</td>\n",
       "      <td>B</td>\n",
       "      <td>0.0</td>\n",
       "      <td>0.0</td>\n",
       "      <td>False</td>\n",
       "      <td>False</td>\n",
       "      <td>...</td>\n",
       "      <td>0</td>\n",
       "      <td>98</td>\n",
       "      <td>98</td>\n",
       "      <td>998</td>\n",
       "      <td>999999998</td>\n",
       "      <td>998</td>\n",
       "      <td>998</td>\n",
       "      <td>9998</td>\n",
       "      <td>9998</td>\n",
       "      <td>IAPS</td>\n",
       "    </tr>\n",
       "    <tr>\n",
       "      <th>4</th>\n",
       "      <td>10</td>\n",
       "      <td>H</td>\n",
       "      <td>91</td>\n",
       "      <td>39</td>\n",
       "      <td>84500</td>\n",
       "      <td>C</td>\n",
       "      <td>8.0</td>\n",
       "      <td>3.0</td>\n",
       "      <td>False</td>\n",
       "      <td>False</td>\n",
       "      <td>...</td>\n",
       "      <td>0</td>\n",
       "      <td>98</td>\n",
       "      <td>98</td>\n",
       "      <td>998</td>\n",
       "      <td>999999998</td>\n",
       "      <td>998</td>\n",
       "      <td>998</td>\n",
       "      <td>9998</td>\n",
       "      <td>9998</td>\n",
       "      <td>IAPS</td>\n",
       "    </tr>\n",
       "  </tbody>\n",
       "</table>\n",
       "<p>5 rows × 1933 columns</p>\n",
       "</div>"
      ],
      "text/plain": [
       "   ID VAR_0001  VAR_0002  VAR_0003  VAR_0004 VAR_0005  VAR_0006  VAR_0007  \\\n",
       "0   1        R       360        25      2251        B       2.0       2.0   \n",
       "1   3        R        74       192      3274        C       2.0       3.0   \n",
       "2   6        R        21        36      3500        C       1.0       1.0   \n",
       "3   9        R         8         2      1500        B       0.0       0.0   \n",
       "4  10        H        91        39     84500        C       8.0       3.0   \n",
       "\n",
       "  VAR_0008 VAR_0009  ... VAR_1925 VAR_1926 VAR_1927  VAR_1928   VAR_1929  \\\n",
       "0    False    False  ...        0       98       98       998  999999998   \n",
       "1    False    False  ...        0       98       98       998  999999998   \n",
       "2    False    False  ...        0       98       98       998  999999998   \n",
       "3    False    False  ...        0       98       98       998  999999998   \n",
       "4    False    False  ...        0       98       98       998  999999998   \n",
       "\n",
       "   VAR_1930  VAR_1931  VAR_1932  VAR_1933  VAR_1934  \n",
       "0       998       998      9998      9998      IAPS  \n",
       "1       998       998      9998      9998      IAPS  \n",
       "2       998       998      9998      9998      IAPS  \n",
       "3       998       998      9998      9998      IAPS  \n",
       "4       998       998      9998      9998      IAPS  \n",
       "\n",
       "[5 rows x 1933 columns]"
      ]
     },
     "execution_count": 10,
     "metadata": {},
     "output_type": "execute_result"
    }
   ],
   "source": [
    "test.head()"
   ]
  },
  {
   "cell_type": "markdown",
   "metadata": {},
   "source": [
    "There are almost 2000 anonymized variables! It's clear, some of them are categorical, some look like numeric. Some numeric feateures are integer typed, so probably they are event conters or dates. And others are of float type, but from the first few rows they look like integer-typed too, since fractional part is zero, but pandas treats them as `float` since there are NaN values in that features.   \n",
    "\n",
    "From the first glance we see train has one more column `target` which we should not forget to drop before fitting a classifier. We also see `ID` column is shared between train and test, which sometimes can be succesfully used to improve the score."
   ]
  },
  {
   "cell_type": "markdown",
   "metadata": {},
   "source": [
    "It is also useful to know if there are any NaNs in the data. You should pay attention to columns with NaNs and the number of NaNs for each row can serve as a nice feature later."
   ]
  },
  {
   "cell_type": "code",
   "execution_count": 11,
   "metadata": {
    "ExecuteTime": {
     "end_time": "2022-05-25T18:30:38.073967Z",
     "start_time": "2022-05-25T18:30:33.717415Z"
    },
    "scrolled": true
   },
   "outputs": [
    {
     "data": {
      "text/plain": [
       "0     25\n",
       "1     19\n",
       "2     24\n",
       "3     24\n",
       "4     24\n",
       "5     24\n",
       "6     24\n",
       "7     24\n",
       "8     16\n",
       "9     24\n",
       "10    22\n",
       "11    24\n",
       "12    17\n",
       "13    24\n",
       "14    24\n",
       "dtype: int64"
      ]
     },
     "execution_count": 11,
     "metadata": {},
     "output_type": "execute_result"
    }
   ],
   "source": [
    "# Number of NaNs for each object\n",
    "train.isnull().sum(axis=1).head(15)"
   ]
  },
  {
   "cell_type": "code",
   "execution_count": 12,
   "metadata": {
    "ExecuteTime": {
     "end_time": "2022-05-25T18:30:39.857981Z",
     "start_time": "2022-05-25T18:30:38.079370Z"
    },
    "scrolled": true
   },
   "outputs": [
    {
     "data": {
      "text/plain": [
       "ID           0\n",
       "VAR_0001     0\n",
       "VAR_0002     0\n",
       "VAR_0003     0\n",
       "VAR_0004     0\n",
       "VAR_0005     0\n",
       "VAR_0006    56\n",
       "VAR_0007    56\n",
       "VAR_0008    56\n",
       "VAR_0009    56\n",
       "VAR_0010    56\n",
       "VAR_0011    56\n",
       "VAR_0012    56\n",
       "VAR_0013    56\n",
       "VAR_0014    56\n",
       "dtype: int64"
      ]
     },
     "execution_count": 12,
     "metadata": {},
     "output_type": "execute_result"
    }
   ],
   "source": [
    "# Number of NaNs for each column\n",
    "train.isnull().sum(axis=0).head(15)"
   ]
  },
  {
   "cell_type": "markdown",
   "metadata": {},
   "source": [
    "Just by reviewing the head of the lists we immediately see the patterns, exactly 56 NaNs for a set of variables, and 24 NaNs for objects. "
   ]
  },
  {
   "cell_type": "markdown",
   "metadata": {},
   "source": [
    "# Dataset cleaning"
   ]
  },
  {
   "cell_type": "markdown",
   "metadata": {},
   "source": [
    "### Remove constant features"
   ]
  },
  {
   "cell_type": "markdown",
   "metadata": {},
   "source": [
    "All 1932 columns are anonimized which makes us to deduce the meaning of the features ourselves. We will now try to clean the dataset. \n",
    "\n",
    "It is usually convenient to concatenate train and test into one dataframe and do all feature engineering using it."
   ]
  },
  {
   "cell_type": "code",
   "execution_count": 13,
   "metadata": {
    "ExecuteTime": {
     "end_time": "2022-05-25T18:31:03.100823Z",
     "start_time": "2022-05-25T18:30:39.861834Z"
    }
   },
   "outputs": [],
   "source": [
    "traintest = pd.concat([train, test], axis = 0)"
   ]
  },
  {
   "cell_type": "markdown",
   "metadata": {},
   "source": [
    "First we schould look for a constant features, such features do not provide any information and only make our dataset larger. "
   ]
  },
  {
   "cell_type": "code",
   "execution_count": 14,
   "metadata": {
    "ExecuteTime": {
     "end_time": "2022-05-25T18:31:10.783211Z",
     "start_time": "2022-05-25T18:31:03.115706Z"
    },
    "scrolled": true
   },
   "outputs": [],
   "source": [
    "# `dropna = False` makes nunique treat NaNs as a distinct value\n",
    "feats_counts = train.nunique(dropna = False)"
   ]
  },
  {
   "cell_type": "code",
   "execution_count": 15,
   "metadata": {
    "ExecuteTime": {
     "end_time": "2022-05-25T18:31:10.944281Z",
     "start_time": "2022-05-25T18:31:10.786246Z"
    },
    "scrolled": true
   },
   "outputs": [
    {
     "data": {
      "text/plain": [
       "VAR_0213    1\n",
       "VAR_0207    1\n",
       "VAR_0840    1\n",
       "VAR_0847    1\n",
       "VAR_1428    1\n",
       "VAR_1165    2\n",
       "VAR_0438    2\n",
       "VAR_1164    2\n",
       "VAR_1163    2\n",
       "VAR_1162    2\n",
       "dtype: int64"
      ]
     },
     "execution_count": 15,
     "metadata": {},
     "output_type": "execute_result"
    }
   ],
   "source": [
    "feats_counts.sort_values()[:10]"
   ]
  },
  {
   "cell_type": "markdown",
   "metadata": {},
   "source": [
    "We found 5 constant features. Let's remove them."
   ]
  },
  {
   "cell_type": "code",
   "execution_count": 16,
   "metadata": {
    "ExecuteTime": {
     "end_time": "2022-05-25T18:31:57.347735Z",
     "start_time": "2022-05-25T18:31:10.962223Z"
    }
   },
   "outputs": [
    {
     "name": "stdout",
     "output_type": "stream",
     "text": [
      "['VAR_0207', 'VAR_0213', 'VAR_0840', 'VAR_0847', 'VAR_1428']\n"
     ]
    }
   ],
   "source": [
    "constant_features = feats_counts.loc[feats_counts==1].index.tolist()\n",
    "print (constant_features)\n",
    "\n",
    "\n",
    "traintest.drop(constant_features,axis = 1,inplace=True)"
   ]
  },
  {
   "cell_type": "markdown",
   "metadata": {},
   "source": [
    "### Remove duplicated features"
   ]
  },
  {
   "cell_type": "markdown",
   "metadata": {},
   "source": [
    "Fill NaNs with something we can find later if needed."
   ]
  },
  {
   "cell_type": "code",
   "execution_count": 17,
   "metadata": {
    "ExecuteTime": {
     "end_time": "2022-05-25T18:32:36.181624Z",
     "start_time": "2022-05-25T18:31:57.358378Z"
    }
   },
   "outputs": [],
   "source": [
    "traintest.fillna('NaN', inplace=True)"
   ]
  },
  {
   "cell_type": "markdown",
   "metadata": {},
   "source": [
    "Now let's encode each feature, as we discussed. "
   ]
  },
  {
   "cell_type": "code",
   "execution_count": 18,
   "metadata": {
    "ExecuteTime": {
     "end_time": "2022-05-25T18:33:14.599873Z",
     "start_time": "2022-05-25T18:32:36.241563Z"
    },
    "scrolled": true
   },
   "outputs": [
    {
     "data": {
      "application/vnd.jupyter.widget-view+json": {
       "model_id": "8b2ab97ecdfe4d5aaff36715d61ebeb5",
       "version_major": 2,
       "version_minor": 0
      },
      "text/plain": [
       "  0%|          | 0/1929 [00:00<?, ?it/s]"
      ]
     },
     "metadata": {},
     "output_type": "display_data"
    }
   ],
   "source": [
    "train_enc =  pd.DataFrame(index = train.index)\n",
    "\n",
    "for col in tqdm_notebook(traintest.columns):\n",
    "    train_enc[col] = train[col].factorize()[0]"
   ]
  },
  {
   "cell_type": "markdown",
   "metadata": {},
   "source": [
    "We could also do something like this:"
   ]
  },
  {
   "cell_type": "code",
   "execution_count": 19,
   "metadata": {
    "ExecuteTime": {
     "end_time": "2022-05-25T18:33:14.639181Z",
     "start_time": "2022-05-25T18:33:14.610468Z"
    }
   },
   "outputs": [],
   "source": [
    "# train_enc[col] = train[col].map(train[col].value_counts())"
   ]
  },
  {
   "cell_type": "markdown",
   "metadata": {
    "collapsed": true,
    "scrolled": true
   },
   "source": [
    "The resulting data frame is very very large, so we cannot just transpose it and use .duplicated. That is why we will use a simple loop."
   ]
  },
  {
   "cell_type": "code",
   "execution_count": 20,
   "metadata": {
    "ExecuteTime": {
     "end_time": "2022-05-25T18:55:02.918684Z",
     "start_time": "2022-05-25T18:33:14.842225Z"
    },
    "scrolled": true
   },
   "outputs": [
    {
     "data": {
      "application/vnd.jupyter.widget-view+json": {
       "model_id": "26820ca2ebd34eb0b425532c848af75b",
       "version_major": 2,
       "version_minor": 0
      },
      "text/plain": [
       "  0%|          | 0/1929 [00:00<?, ?it/s]"
      ]
     },
     "metadata": {},
     "output_type": "display_data"
    }
   ],
   "source": [
    "dup_cols = {}\n",
    "\n",
    "for i, c1 in enumerate(tqdm_notebook(train_enc.columns)):\n",
    "    for c2 in train_enc.columns[i + 1:]:\n",
    "        if c2 not in dup_cols and np.all(train_enc[c1] == train_enc[c2]):\n",
    "            dup_cols[c2] = c1"
   ]
  },
  {
   "cell_type": "code",
   "execution_count": 21,
   "metadata": {
    "ExecuteTime": {
     "end_time": "2022-05-25T18:55:02.946017Z",
     "start_time": "2022-05-25T18:55:02.926868Z"
    },
    "scrolled": true
   },
   "outputs": [
    {
     "data": {
      "text/plain": [
       "{'VAR_0013': 'VAR_0006',\n",
       " 'VAR_0009': 'VAR_0008',\n",
       " 'VAR_0010': 'VAR_0008',\n",
       " 'VAR_0011': 'VAR_0008',\n",
       " 'VAR_0012': 'VAR_0008',\n",
       " 'VAR_0018': 'VAR_0008',\n",
       " 'VAR_0019': 'VAR_0008',\n",
       " 'VAR_0020': 'VAR_0008',\n",
       " 'VAR_0021': 'VAR_0008',\n",
       " 'VAR_0022': 'VAR_0008',\n",
       " 'VAR_0023': 'VAR_0008',\n",
       " 'VAR_0024': 'VAR_0008',\n",
       " 'VAR_0025': 'VAR_0008',\n",
       " 'VAR_0026': 'VAR_0008',\n",
       " 'VAR_0027': 'VAR_0008',\n",
       " 'VAR_0028': 'VAR_0008',\n",
       " 'VAR_0029': 'VAR_0008',\n",
       " 'VAR_0030': 'VAR_0008',\n",
       " 'VAR_0031': 'VAR_0008',\n",
       " 'VAR_0032': 'VAR_0008',\n",
       " 'VAR_0038': 'VAR_0008',\n",
       " 'VAR_0039': 'VAR_0008',\n",
       " 'VAR_0040': 'VAR_0008',\n",
       " 'VAR_0041': 'VAR_0008',\n",
       " 'VAR_0042': 'VAR_0008',\n",
       " 'VAR_0043': 'VAR_0008',\n",
       " 'VAR_0044': 'VAR_0008',\n",
       " 'VAR_0196': 'VAR_0008',\n",
       " 'VAR_0197': 'VAR_0008',\n",
       " 'VAR_0199': 'VAR_0008',\n",
       " 'VAR_0202': 'VAR_0008',\n",
       " 'VAR_0203': 'VAR_0008',\n",
       " 'VAR_0215': 'VAR_0008',\n",
       " 'VAR_0216': 'VAR_0008',\n",
       " 'VAR_0221': 'VAR_0008',\n",
       " 'VAR_0222': 'VAR_0008',\n",
       " 'VAR_0223': 'VAR_0008',\n",
       " 'VAR_0229': 'VAR_0008',\n",
       " 'VAR_0239': 'VAR_0008',\n",
       " 'VAR_0201': 'VAR_0051',\n",
       " 'VAR_0238': 'VAR_0089',\n",
       " 'VAR_0181': 'VAR_0180',\n",
       " 'VAR_0182': 'VAR_0180',\n",
       " 'VAR_0189': 'VAR_0188',\n",
       " 'VAR_0190': 'VAR_0188',\n",
       " 'VAR_0210': 'VAR_0208',\n",
       " 'VAR_0211': 'VAR_0208',\n",
       " 'VAR_0228': 'VAR_0227',\n",
       " 'VAR_0394': 'VAR_0246',\n",
       " 'VAR_0438': 'VAR_0246',\n",
       " 'VAR_0446': 'VAR_0246',\n",
       " 'VAR_0527': 'VAR_0246',\n",
       " 'VAR_0528': 'VAR_0246',\n",
       " 'VAR_0530': 'VAR_0246',\n",
       " 'VAR_0357': 'VAR_0260',\n",
       " 'VAR_0512': 'VAR_0506',\n",
       " 'VAR_0529': 'VAR_0526',\n",
       " 'VAR_0672': 'VAR_0670',\n",
       " 'VAR_1036': 'VAR_0916'}"
      ]
     },
     "execution_count": 21,
     "metadata": {},
     "output_type": "execute_result"
    }
   ],
   "source": [
    "dup_cols"
   ]
  },
  {
   "cell_type": "markdown",
   "metadata": {},
   "source": [
    "Don't forget to save them, as it takes long time to find these."
   ]
  },
  {
   "cell_type": "code",
   "execution_count": 24,
   "metadata": {
    "ExecuteTime": {
     "end_time": "2022-05-26T14:56:18.824951Z",
     "start_time": "2022-05-26T14:56:18.816873Z"
    }
   },
   "outputs": [],
   "source": [
    "import pickle as pickle\n",
    "pickle.dump(dup_cols, open('dup_cols.p', 'wb'), protocol=pickle.HIGHEST_PROTOCOL)"
   ]
  },
  {
   "cell_type": "markdown",
   "metadata": {},
   "source": [
    "Drop from traintest."
   ]
  },
  {
   "cell_type": "code",
   "execution_count": 25,
   "metadata": {
    "ExecuteTime": {
     "end_time": "2022-05-26T14:58:00.349106Z",
     "start_time": "2022-05-26T14:56:21.748209Z"
    }
   },
   "outputs": [],
   "source": [
    "traintest.drop(dup_cols.keys(), axis = 1,inplace=True)"
   ]
  },
  {
   "cell_type": "markdown",
   "metadata": {},
   "source": [
    "# Determine types"
   ]
  },
  {
   "cell_type": "markdown",
   "metadata": {},
   "source": [
    "Let's examine the number of unique values."
   ]
  },
  {
   "cell_type": "code",
   "execution_count": 26,
   "metadata": {
    "ExecuteTime": {
     "end_time": "2022-05-26T14:58:11.681673Z",
     "start_time": "2022-05-26T14:58:00.387523Z"
    },
    "scrolled": true
   },
   "outputs": [
    {
     "data": {
      "text/plain": [
       "ID          145231\n",
       "VAR_0001         3\n",
       "VAR_0002       820\n",
       "VAR_0003       588\n",
       "VAR_0004      7935\n",
       "             ...  \n",
       "VAR_1931        10\n",
       "VAR_1932        74\n",
       "VAR_1933       363\n",
       "VAR_1934         5\n",
       "target           2\n",
       "Length: 1934, dtype: int64"
      ]
     },
     "execution_count": 26,
     "metadata": {},
     "output_type": "execute_result"
    }
   ],
   "source": [
    "nunique = train.nunique(dropna=False)\n",
    "nunique"
   ]
  },
  {
   "cell_type": "markdown",
   "metadata": {},
   "source": [
    "and build a histogram of those values"
   ]
  },
  {
   "cell_type": "code",
   "execution_count": 27,
   "metadata": {
    "ExecuteTime": {
     "end_time": "2022-05-26T14:58:12.987942Z",
     "start_time": "2022-05-26T14:58:11.685071Z"
    }
   },
   "outputs": [
    {
     "data": {
      "image/png": "[encoded data removed]",
      "text/plain": [
       "<Figure size 1008x432 with 1 Axes>"
      ]
     },
     "metadata": {
      "needs_background": "light"
     },
     "output_type": "display_data"
    }
   ],
   "source": [
    "plt.figure(figsize=(14,6))\n",
    "_ = plt.hist(nunique.astype(float)/train.shape[0], bins=100)"
   ]
  },
  {
   "cell_type": "markdown",
   "metadata": {},
   "source": [
    "Let's take a looks at the features with a huge number of unique values:"
   ]
  },
  {
   "cell_type": "code",
   "execution_count": 28,
   "metadata": {
    "ExecuteTime": {
     "end_time": "2022-05-26T14:58:13.116399Z",
     "start_time": "2022-05-26T14:58:12.996201Z"
    },
    "scrolled": true
   },
   "outputs": [
    {
     "data": {
      "text/html": [
       "<div>\n",
       "<style scoped>\n",
       "    .dataframe tbody tr th:only-of-type {\n",
       "        vertical-align: middle;\n",
       "    }\n",
       "\n",
       "    .dataframe tbody tr th {\n",
       "        vertical-align: top;\n",
       "    }\n",
       "\n",
       "    .dataframe thead th {\n",
       "        text-align: right;\n",
       "    }\n",
       "</style>\n",
       "<table border=\"1\" class=\"dataframe\">\n",
       "  <thead>\n",
       "    <tr style=\"text-align: right;\">\n",
       "      <th></th>\n",
       "      <th>ID</th>\n",
       "      <th>VAR_0212</th>\n",
       "      <th>VAR_0227</th>\n",
       "      <th>VAR_0228</th>\n",
       "    </tr>\n",
       "  </thead>\n",
       "  <tbody>\n",
       "    <tr>\n",
       "      <th>0</th>\n",
       "      <td>2</td>\n",
       "      <td>NaN</td>\n",
       "      <td>311951.0</td>\n",
       "      <td>311951.0</td>\n",
       "    </tr>\n",
       "    <tr>\n",
       "      <th>1</th>\n",
       "      <td>4</td>\n",
       "      <td>9.207125e+10</td>\n",
       "      <td>2769488.0</td>\n",
       "      <td>2769488.0</td>\n",
       "    </tr>\n",
       "    <tr>\n",
       "      <th>2</th>\n",
       "      <td>5</td>\n",
       "      <td>2.654775e+10</td>\n",
       "      <td>654127.0</td>\n",
       "      <td>654127.0</td>\n",
       "    </tr>\n",
       "    <tr>\n",
       "      <th>3</th>\n",
       "      <td>7</td>\n",
       "      <td>7.757535e+10</td>\n",
       "      <td>3015088.0</td>\n",
       "      <td>3015088.0</td>\n",
       "    </tr>\n",
       "    <tr>\n",
       "      <th>4</th>\n",
       "      <td>8</td>\n",
       "      <td>6.042377e+10</td>\n",
       "      <td>118678.0</td>\n",
       "      <td>118678.0</td>\n",
       "    </tr>\n",
       "    <tr>\n",
       "      <th>...</th>\n",
       "      <td>...</td>\n",
       "      <td>...</td>\n",
       "      <td>...</td>\n",
       "      <td>...</td>\n",
       "    </tr>\n",
       "    <tr>\n",
       "      <th>145226</th>\n",
       "      <td>290457</td>\n",
       "      <td>7.050881e+10</td>\n",
       "      <td>2036570.0</td>\n",
       "      <td>2036570.0</td>\n",
       "    </tr>\n",
       "    <tr>\n",
       "      <th>145227</th>\n",
       "      <td>290458</td>\n",
       "      <td>9.024919e+10</td>\n",
       "      <td>1680132.0</td>\n",
       "      <td>1680132.0</td>\n",
       "    </tr>\n",
       "    <tr>\n",
       "      <th>145228</th>\n",
       "      <td>290459</td>\n",
       "      <td>9.172239e+10</td>\n",
       "      <td>2419219.0</td>\n",
       "      <td>2419219.0</td>\n",
       "    </tr>\n",
       "    <tr>\n",
       "      <th>145229</th>\n",
       "      <td>290461</td>\n",
       "      <td>4.510331e+10</td>\n",
       "      <td>1539605.0</td>\n",
       "      <td>1539605.0</td>\n",
       "    </tr>\n",
       "    <tr>\n",
       "      <th>145230</th>\n",
       "      <td>290463</td>\n",
       "      <td>9.141136e+10</td>\n",
       "      <td>2660897.0</td>\n",
       "      <td>2660897.0</td>\n",
       "    </tr>\n",
       "  </tbody>\n",
       "</table>\n",
       "<p>145231 rows × 4 columns</p>\n",
       "</div>"
      ],
      "text/plain": [
       "            ID      VAR_0212   VAR_0227   VAR_0228\n",
       "0            2           NaN   311951.0   311951.0\n",
       "1            4  9.207125e+10  2769488.0  2769488.0\n",
       "2            5  2.654775e+10   654127.0   654127.0\n",
       "3            7  7.757535e+10  3015088.0  3015088.0\n",
       "4            8  6.042377e+10   118678.0   118678.0\n",
       "...        ...           ...        ...        ...\n",
       "145226  290457  7.050881e+10  2036570.0  2036570.0\n",
       "145227  290458  9.024919e+10  1680132.0  1680132.0\n",
       "145228  290459  9.172239e+10  2419219.0  2419219.0\n",
       "145229  290461  4.510331e+10  1539605.0  1539605.0\n",
       "145230  290463  9.141136e+10  2660897.0  2660897.0\n",
       "\n",
       "[145231 rows x 4 columns]"
      ]
     },
     "execution_count": 28,
     "metadata": {},
     "output_type": "execute_result"
    }
   ],
   "source": [
    "mask = (nunique.astype(float)/train.shape[0] > 0.8)\n",
    "train.loc[:, mask]"
   ]
  },
  {
   "cell_type": "markdown",
   "metadata": {},
   "source": [
    "The values are not float, they are integer, so these features are likely to be even counts. Let's look at another pack of features."
   ]
  },
  {
   "cell_type": "code",
   "execution_count": 29,
   "metadata": {
    "ExecuteTime": {
     "end_time": "2022-05-26T14:58:13.146096Z",
     "start_time": "2022-05-26T14:58:13.123098Z"
    },
    "scrolled": true
   },
   "outputs": [
    {
     "data": {
      "text/html": [
       "<div>\n",
       "<style scoped>\n",
       "    .dataframe tbody tr th:only-of-type {\n",
       "        vertical-align: middle;\n",
       "    }\n",
       "\n",
       "    .dataframe tbody tr th {\n",
       "        vertical-align: top;\n",
       "    }\n",
       "\n",
       "    .dataframe thead th {\n",
       "        text-align: right;\n",
       "    }\n",
       "</style>\n",
       "<table border=\"1\" class=\"dataframe\">\n",
       "  <thead>\n",
       "    <tr style=\"text-align: right;\">\n",
       "      <th></th>\n",
       "      <th>VAR_0541</th>\n",
       "      <th>VAR_0543</th>\n",
       "      <th>VAR_0899</th>\n",
       "      <th>VAR_1081</th>\n",
       "      <th>VAR_1082</th>\n",
       "      <th>VAR_1087</th>\n",
       "      <th>VAR_1179</th>\n",
       "      <th>VAR_1180</th>\n",
       "      <th>VAR_1181</th>\n",
       "    </tr>\n",
       "  </thead>\n",
       "  <tbody>\n",
       "    <tr>\n",
       "      <th>0</th>\n",
       "      <td>49463</td>\n",
       "      <td>116783</td>\n",
       "      <td>112871</td>\n",
       "      <td>76857</td>\n",
       "      <td>76857</td>\n",
       "      <td>116783</td>\n",
       "      <td>76857</td>\n",
       "      <td>76857</td>\n",
       "      <td>76857</td>\n",
       "    </tr>\n",
       "    <tr>\n",
       "      <th>1</th>\n",
       "      <td>303472</td>\n",
       "      <td>346196</td>\n",
       "      <td>346375</td>\n",
       "      <td>341365</td>\n",
       "      <td>341365</td>\n",
       "      <td>346196</td>\n",
       "      <td>341365</td>\n",
       "      <td>341365</td>\n",
       "      <td>176604</td>\n",
       "    </tr>\n",
       "    <tr>\n",
       "      <th>2</th>\n",
       "      <td>94990</td>\n",
       "      <td>122601</td>\n",
       "      <td>121501</td>\n",
       "      <td>107267</td>\n",
       "      <td>107267</td>\n",
       "      <td>121501</td>\n",
       "      <td>107267</td>\n",
       "      <td>107267</td>\n",
       "      <td>58714</td>\n",
       "    </tr>\n",
       "    <tr>\n",
       "      <th>3</th>\n",
       "      <td>20593</td>\n",
       "      <td>59490</td>\n",
       "      <td>61890</td>\n",
       "      <td>45794</td>\n",
       "      <td>47568</td>\n",
       "      <td>59490</td>\n",
       "      <td>45794</td>\n",
       "      <td>47568</td>\n",
       "      <td>47568</td>\n",
       "    </tr>\n",
       "    <tr>\n",
       "      <th>4</th>\n",
       "      <td>10071</td>\n",
       "      <td>35708</td>\n",
       "      <td>34787</td>\n",
       "      <td>20475</td>\n",
       "      <td>23647</td>\n",
       "      <td>34708</td>\n",
       "      <td>20475</td>\n",
       "      <td>23647</td>\n",
       "      <td>23647</td>\n",
       "    </tr>\n",
       "    <tr>\n",
       "      <th>5</th>\n",
       "      <td>18877</td>\n",
       "      <td>28055</td>\n",
       "      <td>28455</td>\n",
       "      <td>21139</td>\n",
       "      <td>21139</td>\n",
       "      <td>28055</td>\n",
       "      <td>21139</td>\n",
       "      <td>21139</td>\n",
       "      <td>20627</td>\n",
       "    </tr>\n",
       "    <tr>\n",
       "      <th>6</th>\n",
       "      <td>321783</td>\n",
       "      <td>333565</td>\n",
       "      <td>886886</td>\n",
       "      <td>327744</td>\n",
       "      <td>327744</td>\n",
       "      <td>333565</td>\n",
       "      <td>327744</td>\n",
       "      <td>327744</td>\n",
       "      <td>163944</td>\n",
       "    </tr>\n",
       "    <tr>\n",
       "      <th>7</th>\n",
       "      <td>2961</td>\n",
       "      <td>5181</td>\n",
       "      <td>11084</td>\n",
       "      <td>4326</td>\n",
       "      <td>4326</td>\n",
       "      <td>5181</td>\n",
       "      <td>4326</td>\n",
       "      <td>4326</td>\n",
       "      <td>4326</td>\n",
       "    </tr>\n",
       "    <tr>\n",
       "      <th>8</th>\n",
       "      <td>20359</td>\n",
       "      <td>30114</td>\n",
       "      <td>33434</td>\n",
       "      <td>24969</td>\n",
       "      <td>27128</td>\n",
       "      <td>30114</td>\n",
       "      <td>24969</td>\n",
       "      <td>27128</td>\n",
       "      <td>27128</td>\n",
       "    </tr>\n",
       "    <tr>\n",
       "      <th>9</th>\n",
       "      <td>815</td>\n",
       "      <td>1300</td>\n",
       "      <td>7677</td>\n",
       "      <td>1197</td>\n",
       "      <td>1197</td>\n",
       "      <td>1300</td>\n",
       "      <td>1197</td>\n",
       "      <td>1197</td>\n",
       "      <td>1197</td>\n",
       "    </tr>\n",
       "    <tr>\n",
       "      <th>10</th>\n",
       "      <td>6088</td>\n",
       "      <td>15233</td>\n",
       "      <td>15483</td>\n",
       "      <td>7077</td>\n",
       "      <td>7077</td>\n",
       "      <td>15233</td>\n",
       "      <td>7077</td>\n",
       "      <td>7077</td>\n",
       "      <td>4033</td>\n",
       "    </tr>\n",
       "    <tr>\n",
       "      <th>11</th>\n",
       "      <td>432</td>\n",
       "      <td>1457</td>\n",
       "      <td>2000</td>\n",
       "      <td>621</td>\n",
       "      <td>621</td>\n",
       "      <td>757</td>\n",
       "      <td>621</td>\n",
       "      <td>621</td>\n",
       "      <td>621</td>\n",
       "    </tr>\n",
       "    <tr>\n",
       "      <th>12</th>\n",
       "      <td>383</td>\n",
       "      <td>539</td>\n",
       "      <td>860</td>\n",
       "      <td>752</td>\n",
       "      <td>1158</td>\n",
       "      <td>539</td>\n",
       "      <td>752</td>\n",
       "      <td>1158</td>\n",
       "      <td>1158</td>\n",
       "    </tr>\n",
       "    <tr>\n",
       "      <th>13</th>\n",
       "      <td>14359</td>\n",
       "      <td>47562</td>\n",
       "      <td>47562</td>\n",
       "      <td>17706</td>\n",
       "      <td>17706</td>\n",
       "      <td>47562</td>\n",
       "      <td>17706</td>\n",
       "      <td>17706</td>\n",
       "      <td>17706</td>\n",
       "    </tr>\n",
       "    <tr>\n",
       "      <th>14</th>\n",
       "      <td>145391</td>\n",
       "      <td>218067</td>\n",
       "      <td>214836</td>\n",
       "      <td>176627</td>\n",
       "      <td>176627</td>\n",
       "      <td>216307</td>\n",
       "      <td>175273</td>\n",
       "      <td>175273</td>\n",
       "      <td>91019</td>\n",
       "    </tr>\n",
       "    <tr>\n",
       "      <th>15</th>\n",
       "      <td>10040</td>\n",
       "      <td>12119</td>\n",
       "      <td>17263</td>\n",
       "      <td>10399</td>\n",
       "      <td>10399</td>\n",
       "      <td>12119</td>\n",
       "      <td>10399</td>\n",
       "      <td>10399</td>\n",
       "      <td>5379</td>\n",
       "    </tr>\n",
       "    <tr>\n",
       "      <th>16</th>\n",
       "      <td>4880</td>\n",
       "      <td>9607</td>\n",
       "      <td>9607</td>\n",
       "      <td>9165</td>\n",
       "      <td>9165</td>\n",
       "      <td>9607</td>\n",
       "      <td>9165</td>\n",
       "      <td>9165</td>\n",
       "      <td>9165</td>\n",
       "    </tr>\n",
       "    <tr>\n",
       "      <th>17</th>\n",
       "      <td>12900</td>\n",
       "      <td>35590</td>\n",
       "      <td>35781</td>\n",
       "      <td>26096</td>\n",
       "      <td>26096</td>\n",
       "      <td>35590</td>\n",
       "      <td>26096</td>\n",
       "      <td>26096</td>\n",
       "      <td>19646</td>\n",
       "    </tr>\n",
       "    <tr>\n",
       "      <th>18</th>\n",
       "      <td>104442</td>\n",
       "      <td>139605</td>\n",
       "      <td>150505</td>\n",
       "      <td>136419</td>\n",
       "      <td>142218</td>\n",
       "      <td>139605</td>\n",
       "      <td>136419</td>\n",
       "      <td>142218</td>\n",
       "      <td>142218</td>\n",
       "    </tr>\n",
       "    <tr>\n",
       "      <th>19</th>\n",
       "      <td>13898</td>\n",
       "      <td>25566</td>\n",
       "      <td>26685</td>\n",
       "      <td>20122</td>\n",
       "      <td>20122</td>\n",
       "      <td>25566</td>\n",
       "      <td>20122</td>\n",
       "      <td>20122</td>\n",
       "      <td>20122</td>\n",
       "    </tr>\n",
       "    <tr>\n",
       "      <th>20</th>\n",
       "      <td>3524</td>\n",
       "      <td>10033</td>\n",
       "      <td>10133</td>\n",
       "      <td>5838</td>\n",
       "      <td>5838</td>\n",
       "      <td>10033</td>\n",
       "      <td>5838</td>\n",
       "      <td>5838</td>\n",
       "      <td>5838</td>\n",
       "    </tr>\n",
       "    <tr>\n",
       "      <th>21</th>\n",
       "      <td>129873</td>\n",
       "      <td>204072</td>\n",
       "      <td>206946</td>\n",
       "      <td>183049</td>\n",
       "      <td>183049</td>\n",
       "      <td>204072</td>\n",
       "      <td>183049</td>\n",
       "      <td>183049</td>\n",
       "      <td>96736</td>\n",
       "    </tr>\n",
       "    <tr>\n",
       "      <th>22</th>\n",
       "      <td>3591</td>\n",
       "      <td>11400</td>\n",
       "      <td>17680</td>\n",
       "      <td>5565</td>\n",
       "      <td>5565</td>\n",
       "      <td>11400</td>\n",
       "      <td>5565</td>\n",
       "      <td>5565</td>\n",
       "      <td>5565</td>\n",
       "    </tr>\n",
       "    <tr>\n",
       "      <th>23</th>\n",
       "      <td>999999999</td>\n",
       "      <td>999999999</td>\n",
       "      <td>-99999</td>\n",
       "      <td>999999999</td>\n",
       "      <td>999999999</td>\n",
       "      <td>999999999</td>\n",
       "      <td>999999999</td>\n",
       "      <td>999999999</td>\n",
       "      <td>999999999</td>\n",
       "    </tr>\n",
       "    <tr>\n",
       "      <th>24</th>\n",
       "      <td>1270</td>\n",
       "      <td>4955</td>\n",
       "      <td>12201</td>\n",
       "      <td>2490</td>\n",
       "      <td>2490</td>\n",
       "      <td>4955</td>\n",
       "      <td>2490</td>\n",
       "      <td>2490</td>\n",
       "      <td>2490</td>\n",
       "    </tr>\n",
       "    <tr>\n",
       "      <th>25</th>\n",
       "      <td>2015</td>\n",
       "      <td>2458</td>\n",
       "      <td>2458</td>\n",
       "      <td>2015</td>\n",
       "      <td>2015</td>\n",
       "      <td>2458</td>\n",
       "      <td>2015</td>\n",
       "      <td>2015</td>\n",
       "      <td>1008</td>\n",
       "    </tr>\n",
       "  </tbody>\n",
       "</table>\n",
       "</div>"
      ],
      "text/plain": [
       "     VAR_0541   VAR_0543  VAR_0899   VAR_1081   VAR_1082   VAR_1087  \\\n",
       "0       49463     116783    112871      76857      76857     116783   \n",
       "1      303472     346196    346375     341365     341365     346196   \n",
       "2       94990     122601    121501     107267     107267     121501   \n",
       "3       20593      59490     61890      45794      47568      59490   \n",
       "4       10071      35708     34787      20475      23647      34708   \n",
       "5       18877      28055     28455      21139      21139      28055   \n",
       "6      321783     333565    886886     327744     327744     333565   \n",
       "7        2961       5181     11084       4326       4326       5181   \n",
       "8       20359      30114     33434      24969      27128      30114   \n",
       "9         815       1300      7677       1197       1197       1300   \n",
       "10       6088      15233     15483       7077       7077      15233   \n",
       "11        432       1457      2000        621        621        757   \n",
       "12        383        539       860        752       1158        539   \n",
       "13      14359      47562     47562      17706      17706      47562   \n",
       "14     145391     218067    214836     176627     176627     216307   \n",
       "15      10040      12119     17263      10399      10399      12119   \n",
       "16       4880       9607      9607       9165       9165       9607   \n",
       "17      12900      35590     35781      26096      26096      35590   \n",
       "18     104442     139605    150505     136419     142218     139605   \n",
       "19      13898      25566     26685      20122      20122      25566   \n",
       "20       3524      10033     10133       5838       5838      10033   \n",
       "21     129873     204072    206946     183049     183049     204072   \n",
       "22       3591      11400     17680       5565       5565      11400   \n",
       "23  999999999  999999999    -99999  999999999  999999999  999999999   \n",
       "24       1270       4955     12201       2490       2490       4955   \n",
       "25       2015       2458      2458       2015       2015       2458   \n",
       "\n",
       "     VAR_1179   VAR_1180   VAR_1181  \n",
       "0       76857      76857      76857  \n",
       "1      341365     341365     176604  \n",
       "2      107267     107267      58714  \n",
       "3       45794      47568      47568  \n",
       "4       20475      23647      23647  \n",
       "5       21139      21139      20627  \n",
       "6      327744     327744     163944  \n",
       "7        4326       4326       4326  \n",
       "8       24969      27128      27128  \n",
       "9        1197       1197       1197  \n",
       "10       7077       7077       4033  \n",
       "11        621        621        621  \n",
       "12        752       1158       1158  \n",
       "13      17706      17706      17706  \n",
       "14     175273     175273      91019  \n",
       "15      10399      10399       5379  \n",
       "16       9165       9165       9165  \n",
       "17      26096      26096      19646  \n",
       "18     136419     142218     142218  \n",
       "19      20122      20122      20122  \n",
       "20       5838       5838       5838  \n",
       "21     183049     183049      96736  \n",
       "22       5565       5565       5565  \n",
       "23  999999999  999999999  999999999  \n",
       "24       2490       2490       2490  \n",
       "25       2015       2015       1008  "
      ]
     },
     "execution_count": 29,
     "metadata": {},
     "output_type": "execute_result"
    }
   ],
   "source": [
    "mask = (nunique.astype(float)/train.shape[0] < 0.8) & (nunique.astype(float)/train.shape[0] > 0.4)\n",
    "train.loc[:25, mask]"
   ]
  },
  {
   "cell_type": "markdown",
   "metadata": {},
   "source": [
    "These look like counts too. First thing to notice is the 23th line: 99999.., -99999 values look like NaNs so we should probably built a related feature. Second: the columns are sometimes placed next to each other, so the columns are probably grouped together and we can disentangle that.      "
   ]
  },
  {
   "cell_type": "markdown",
   "metadata": {},
   "source": [
    "Our conclusion: there are no floating point variables, there are some counts variables, which we will treat as numeric. \n",
    "\n",
    "And finally, let's pick one variable (in this case 'VAR_0015') from the third group of features."
   ]
  },
  {
   "cell_type": "code",
   "execution_count": 30,
   "metadata": {
    "ExecuteTime": {
     "end_time": "2022-05-26T14:58:13.167166Z",
     "start_time": "2022-05-26T14:58:13.150487Z"
    }
   },
   "outputs": [
    {
     "data": {
      "text/plain": [
       "0.0     102382\n",
       "1.0      28045\n",
       "2.0       8981\n",
       "3.0       3199\n",
       "4.0       1274\n",
       "5.0        588\n",
       "6.0        275\n",
       "7.0        166\n",
       "8.0         97\n",
       "9.0         51\n",
       "10.0        39\n",
       "11.0        18\n",
       "12.0        16\n",
       "13.0         9\n",
       "15.0         8\n",
       "14.0         8\n",
       "16.0         6\n",
       "21.0         3\n",
       "22.0         3\n",
       "18.0         1\n",
       "35.0         1\n",
       "29.0         1\n",
       "32.0         1\n",
       "23.0         1\n",
       "19.0         1\n",
       "17.0         1\n",
       "Name: VAR_0015, dtype: int64"
      ]
     },
     "execution_count": 30,
     "metadata": {},
     "output_type": "execute_result"
    }
   ],
   "source": [
    "train['VAR_0015'].value_counts()"
   ]
  },
  {
   "cell_type": "code",
   "execution_count": 31,
   "metadata": {
    "ExecuteTime": {
     "end_time": "2022-05-26T14:58:13.190472Z",
     "start_time": "2022-05-26T14:58:13.170210Z"
    }
   },
   "outputs": [],
   "source": [
    "cat_cols = list(train.select_dtypes(include=['object']).columns)\n",
    "num_cols = list(train.select_dtypes(exclude=['object']).columns)"
   ]
  },
  {
   "cell_type": "markdown",
   "metadata": {},
   "source": [
    "# Go through"
   ]
  },
  {
   "cell_type": "markdown",
   "metadata": {},
   "source": [
    "Let's replace NaNs with something first."
   ]
  },
  {
   "cell_type": "code",
   "execution_count": 32,
   "metadata": {
    "ExecuteTime": {
     "end_time": "2022-05-26T14:58:13.510587Z",
     "start_time": "2022-05-26T14:58:13.197810Z"
    }
   },
   "outputs": [],
   "source": [
    "train.replace('NaN', -999, inplace=True)"
   ]
  },
  {
   "cell_type": "markdown",
   "metadata": {},
   "source": [
    "Let's calculate how many times one feature is greater than the other and create cross tabel out of it. "
   ]
  },
  {
   "cell_type": "code",
   "execution_count": 33,
   "metadata": {
    "ExecuteTime": {
     "end_time": "2022-05-26T14:58:30.709214Z",
     "start_time": "2022-05-26T14:58:13.514915Z"
    },
    "scrolled": false
   },
   "outputs": [
    {
     "data": {
      "image/png": "[encoded data removed]",
      "text/plain": [
       "<Figure size 1152x1152 with 1 Axes>"
      ]
     },
     "metadata": {
      "needs_background": "light"
     },
     "output_type": "display_data"
    }
   ],
   "source": [
    "# select first 42 numeric features\n",
    "feats = num_cols[:42]\n",
    "\n",
    "# build 'mean(feat1 > feat2)' plot\n",
    "gt_matrix(feats,16)"
   ]
  },
  {
   "cell_type": "markdown",
   "metadata": {},
   "source": [
    "Indeed, we see interesting patterns here. There are blocks of geatures where one is strictly greater than the other. So we can hypothesize, that each column correspondes to cumulative counts, e.g. feature number one is counts in first month, second -- total count number in first two month and so on. So we immediately understand what features we should generate to make tree-based models more efficient: the differences between consecutive values."
   ]
  },
  {
   "cell_type": "markdown",
   "metadata": {},
   "source": [
    "## VAR_0002, VAR_0003 "
   ]
  },
  {
   "cell_type": "code",
   "execution_count": 38,
   "metadata": {
    "ExecuteTime": {
     "end_time": "2022-05-26T15:25:06.456222Z",
     "start_time": "2022-05-26T15:24:57.955178Z"
    },
    "scrolled": false
   },
   "outputs": [
    {
     "data": {
      "text/plain": [
       "(-10.0, 1010.0)"
      ]
     },
     "execution_count": 38,
     "metadata": {},
     "output_type": "execute_result"
    },
    {
     "data": {
      "image/png": "[encoded data removed]",
      "text/plain": [
       "<Figure size 1152x288 with 1 Axes>"
      ]
     },
     "metadata": {
      "needs_background": "light"
     },
     "output_type": "display_data"
    },
    {
     "data": {
      "image/png": "[encoded data removed]",
      "text/plain": [
       "<Figure size 1152x288 with 1 Axes>"
      ]
     },
     "metadata": {
      "needs_background": "light"
     },
     "output_type": "display_data"
    }
   ],
   "source": [
    "hist_it(train['VAR_0002'])\n",
    "plt.ylim((0,0.05))\n",
    "plt.xlim((-10,1010))\n",
    "\n",
    "hist_it(train['VAR_0003'])\n",
    "plt.ylim((0,0.03))\n",
    "plt.xlim((-10,1010))"
   ]
  },
  {
   "cell_type": "code",
   "execution_count": 39,
   "metadata": {
    "ExecuteTime": {
     "end_time": "2022-05-26T15:25:06.532767Z",
     "start_time": "2022-05-26T15:25:06.461776Z"
    },
    "scrolled": true
   },
   "outputs": [
    {
     "data": {
      "text/plain": [
       "12     5264\n",
       "24     4763\n",
       "36     3499\n",
       "60     2899\n",
       "6      2657\n",
       "       ... \n",
       "808       1\n",
       "760       1\n",
       "793       1\n",
       "785       1\n",
       "662       1\n",
       "Name: VAR_0002, Length: 820, dtype: int64"
      ]
     },
     "execution_count": 39,
     "metadata": {},
     "output_type": "execute_result"
    }
   ],
   "source": [
    "train['VAR_0002'].value_counts()"
   ]
  },
  {
   "cell_type": "code",
   "execution_count": 40,
   "metadata": {
    "ExecuteTime": {
     "end_time": "2022-05-26T15:25:06.562548Z",
     "start_time": "2022-05-26T15:25:06.551184Z"
    },
    "scrolled": true
   },
   "outputs": [
    {
     "data": {
      "text/plain": [
       "0      17436\n",
       "24      3469\n",
       "12      3271\n",
       "60      3054\n",
       "36      2498\n",
       "       ...  \n",
       "531        1\n",
       "709        1\n",
       "614        1\n",
       "479        1\n",
       "523        1\n",
       "Name: VAR_0003, Length: 588, dtype: int64"
      ]
     },
     "execution_count": 40,
     "metadata": {},
     "output_type": "execute_result"
    }
   ],
   "source": [
    "train['VAR_0003'].value_counts()"
   ]
  },
  {
   "cell_type": "markdown",
   "metadata": {},
   "source": [
    "We see there is something special about 12, 24 and so on, sowe can create another feature x mod 12. "
   ]
  },
  {
   "cell_type": "markdown",
   "metadata": {},
   "source": [
    "## VAR_0004"
   ]
  },
  {
   "cell_type": "code",
   "execution_count": 41,
   "metadata": {
    "ExecuteTime": {
     "end_time": "2022-05-26T15:25:07.006113Z",
     "start_time": "2022-05-26T15:25:06.567929Z"
    }
   },
   "outputs": [
    {
     "data": {
      "text/plain": [
       "(0.0, 0.6)"
      ]
     },
     "execution_count": 41,
     "metadata": {},
     "output_type": "execute_result"
    },
    {
     "data": {
      "image/png": "[encoded data removed]",
      "text/plain": [
       "<Figure size 1152x288 with 1 Axes>"
      ]
     },
     "metadata": {
      "needs_background": "light"
     },
     "output_type": "display_data"
    }
   ],
   "source": [
    "train['VAR_0004_mod50'] = train['VAR_0004'] % 50\n",
    "hist_it(train['VAR_0004_mod50'])\n",
    "plt.ylim((0,0.6))"
   ]
  },
  {
   "cell_type": "markdown",
   "metadata": {},
   "source": [
    "# Categorical features"
   ]
  },
  {
   "cell_type": "markdown",
   "metadata": {},
   "source": [
    "Let's take a look at categorical features we have."
   ]
  },
  {
   "cell_type": "code",
   "execution_count": 42,
   "metadata": {
    "ExecuteTime": {
     "end_time": "2022-05-26T15:25:17.767219Z",
     "start_time": "2022-05-26T15:25:07.010604Z"
    },
    "scrolled": true
   },
   "outputs": [
    {
     "data": {
      "text/html": [
       "<div>\n",
       "<style scoped>\n",
       "    .dataframe tbody tr th:only-of-type {\n",
       "        vertical-align: middle;\n",
       "    }\n",
       "\n",
       "    .dataframe tbody tr th {\n",
       "        vertical-align: top;\n",
       "    }\n",
       "\n",
       "    .dataframe thead th {\n",
       "        text-align: right;\n",
       "    }\n",
       "</style>\n",
       "<table border=\"1\" class=\"dataframe\">\n",
       "  <thead>\n",
       "    <tr style=\"text-align: right;\">\n",
       "      <th></th>\n",
       "      <th>0</th>\n",
       "      <th>1</th>\n",
       "      <th>2</th>\n",
       "      <th>3</th>\n",
       "      <th>4</th>\n",
       "    </tr>\n",
       "  </thead>\n",
       "  <tbody>\n",
       "    <tr>\n",
       "      <th>VAR_0001</th>\n",
       "      <td>H</td>\n",
       "      <td>H</td>\n",
       "      <td>H</td>\n",
       "      <td>H</td>\n",
       "      <td>R</td>\n",
       "    </tr>\n",
       "    <tr>\n",
       "      <th>VAR_0005</th>\n",
       "      <td>C</td>\n",
       "      <td>B</td>\n",
       "      <td>C</td>\n",
       "      <td>C</td>\n",
       "      <td>N</td>\n",
       "    </tr>\n",
       "    <tr>\n",
       "      <th>VAR_0008</th>\n",
       "      <td>False</td>\n",
       "      <td>False</td>\n",
       "      <td>False</td>\n",
       "      <td>False</td>\n",
       "      <td>False</td>\n",
       "    </tr>\n",
       "    <tr>\n",
       "      <th>VAR_0009</th>\n",
       "      <td>False</td>\n",
       "      <td>False</td>\n",
       "      <td>False</td>\n",
       "      <td>False</td>\n",
       "      <td>False</td>\n",
       "    </tr>\n",
       "    <tr>\n",
       "      <th>VAR_0010</th>\n",
       "      <td>False</td>\n",
       "      <td>False</td>\n",
       "      <td>False</td>\n",
       "      <td>False</td>\n",
       "      <td>False</td>\n",
       "    </tr>\n",
       "    <tr>\n",
       "      <th>VAR_0011</th>\n",
       "      <td>False</td>\n",
       "      <td>False</td>\n",
       "      <td>False</td>\n",
       "      <td>False</td>\n",
       "      <td>False</td>\n",
       "    </tr>\n",
       "    <tr>\n",
       "      <th>VAR_0012</th>\n",
       "      <td>False</td>\n",
       "      <td>False</td>\n",
       "      <td>False</td>\n",
       "      <td>False</td>\n",
       "      <td>False</td>\n",
       "    </tr>\n",
       "    <tr>\n",
       "      <th>VAR_0043</th>\n",
       "      <td>False</td>\n",
       "      <td>False</td>\n",
       "      <td>False</td>\n",
       "      <td>False</td>\n",
       "      <td>False</td>\n",
       "    </tr>\n",
       "    <tr>\n",
       "      <th>VAR_0044</th>\n",
       "      <td>[]</td>\n",
       "      <td>[]</td>\n",
       "      <td>[]</td>\n",
       "      <td>[]</td>\n",
       "      <td>[]</td>\n",
       "    </tr>\n",
       "    <tr>\n",
       "      <th>VAR_0073</th>\n",
       "      <td>NaN</td>\n",
       "      <td>04SEP12:00:00:00</td>\n",
       "      <td>NaN</td>\n",
       "      <td>NaN</td>\n",
       "      <td>NaN</td>\n",
       "    </tr>\n",
       "    <tr>\n",
       "      <th>VAR_0075</th>\n",
       "      <td>08NOV11:00:00:00</td>\n",
       "      <td>10NOV11:00:00:00</td>\n",
       "      <td>13DEC11:00:00:00</td>\n",
       "      <td>23SEP10:00:00:00</td>\n",
       "      <td>15OCT11:00:00:00</td>\n",
       "    </tr>\n",
       "    <tr>\n",
       "      <th>VAR_0156</th>\n",
       "      <td>NaN</td>\n",
       "      <td>NaN</td>\n",
       "      <td>NaN</td>\n",
       "      <td>NaN</td>\n",
       "      <td>NaN</td>\n",
       "    </tr>\n",
       "    <tr>\n",
       "      <th>VAR_0157</th>\n",
       "      <td>NaN</td>\n",
       "      <td>NaN</td>\n",
       "      <td>NaN</td>\n",
       "      <td>NaN</td>\n",
       "      <td>NaN</td>\n",
       "    </tr>\n",
       "    <tr>\n",
       "      <th>VAR_0158</th>\n",
       "      <td>NaN</td>\n",
       "      <td>NaN</td>\n",
       "      <td>NaN</td>\n",
       "      <td>NaN</td>\n",
       "      <td>NaN</td>\n",
       "    </tr>\n",
       "    <tr>\n",
       "      <th>VAR_0159</th>\n",
       "      <td>NaN</td>\n",
       "      <td>NaN</td>\n",
       "      <td>NaN</td>\n",
       "      <td>NaN</td>\n",
       "      <td>NaN</td>\n",
       "    </tr>\n",
       "    <tr>\n",
       "      <th>VAR_0166</th>\n",
       "      <td>NaN</td>\n",
       "      <td>NaN</td>\n",
       "      <td>NaN</td>\n",
       "      <td>NaN</td>\n",
       "      <td>NaN</td>\n",
       "    </tr>\n",
       "    <tr>\n",
       "      <th>VAR_0167</th>\n",
       "      <td>NaN</td>\n",
       "      <td>NaN</td>\n",
       "      <td>NaN</td>\n",
       "      <td>NaN</td>\n",
       "      <td>NaN</td>\n",
       "    </tr>\n",
       "    <tr>\n",
       "      <th>VAR_0168</th>\n",
       "      <td>NaN</td>\n",
       "      <td>NaN</td>\n",
       "      <td>NaN</td>\n",
       "      <td>NaN</td>\n",
       "      <td>NaN</td>\n",
       "    </tr>\n",
       "    <tr>\n",
       "      <th>VAR_0169</th>\n",
       "      <td>NaN</td>\n",
       "      <td>NaN</td>\n",
       "      <td>NaN</td>\n",
       "      <td>NaN</td>\n",
       "      <td>NaN</td>\n",
       "    </tr>\n",
       "    <tr>\n",
       "      <th>VAR_0176</th>\n",
       "      <td>NaN</td>\n",
       "      <td>NaN</td>\n",
       "      <td>NaN</td>\n",
       "      <td>NaN</td>\n",
       "      <td>NaN</td>\n",
       "    </tr>\n",
       "    <tr>\n",
       "      <th>VAR_0177</th>\n",
       "      <td>NaN</td>\n",
       "      <td>NaN</td>\n",
       "      <td>NaN</td>\n",
       "      <td>NaN</td>\n",
       "      <td>NaN</td>\n",
       "    </tr>\n",
       "    <tr>\n",
       "      <th>VAR_0178</th>\n",
       "      <td>NaN</td>\n",
       "      <td>NaN</td>\n",
       "      <td>NaN</td>\n",
       "      <td>NaN</td>\n",
       "      <td>NaN</td>\n",
       "    </tr>\n",
       "    <tr>\n",
       "      <th>VAR_0179</th>\n",
       "      <td>NaN</td>\n",
       "      <td>NaN</td>\n",
       "      <td>NaN</td>\n",
       "      <td>NaN</td>\n",
       "      <td>NaN</td>\n",
       "    </tr>\n",
       "    <tr>\n",
       "      <th>VAR_0196</th>\n",
       "      <td>False</td>\n",
       "      <td>False</td>\n",
       "      <td>False</td>\n",
       "      <td>False</td>\n",
       "      <td>False</td>\n",
       "    </tr>\n",
       "    <tr>\n",
       "      <th>VAR_0200</th>\n",
       "      <td>FT LAUDERDALE</td>\n",
       "      <td>SANTEE</td>\n",
       "      <td>REEDSVILLE</td>\n",
       "      <td>LIBERTY</td>\n",
       "      <td>FRANKFORT</td>\n",
       "    </tr>\n",
       "    <tr>\n",
       "      <th>VAR_0202</th>\n",
       "      <td>BatchInquiry</td>\n",
       "      <td>BatchInquiry</td>\n",
       "      <td>BatchInquiry</td>\n",
       "      <td>BatchInquiry</td>\n",
       "      <td>BatchInquiry</td>\n",
       "    </tr>\n",
       "    <tr>\n",
       "      <th>VAR_0204</th>\n",
       "      <td>29JAN14:21:16:00</td>\n",
       "      <td>01FEB14:00:11:00</td>\n",
       "      <td>30JAN14:15:11:00</td>\n",
       "      <td>01FEB14:00:07:00</td>\n",
       "      <td>29JAN14:19:31:00</td>\n",
       "    </tr>\n",
       "    <tr>\n",
       "      <th>VAR_0214</th>\n",
       "      <td>NaN</td>\n",
       "      <td>NaN</td>\n",
       "      <td>NaN</td>\n",
       "      <td>NaN</td>\n",
       "      <td>NaN</td>\n",
       "    </tr>\n",
       "    <tr>\n",
       "      <th>VAR_0216</th>\n",
       "      <td>DS</td>\n",
       "      <td>DS</td>\n",
       "      <td>DS</td>\n",
       "      <td>DS</td>\n",
       "      <td>DS</td>\n",
       "    </tr>\n",
       "    <tr>\n",
       "      <th>VAR_0217</th>\n",
       "      <td>08NOV11:02:00:00</td>\n",
       "      <td>02OCT12:02:00:00</td>\n",
       "      <td>13DEC11:02:00:00</td>\n",
       "      <td>01NOV12:02:00:00</td>\n",
       "      <td>15OCT11:02:00:00</td>\n",
       "    </tr>\n",
       "    <tr>\n",
       "      <th>VAR_0222</th>\n",
       "      <td>C6</td>\n",
       "      <td>C6</td>\n",
       "      <td>C6</td>\n",
       "      <td>C6</td>\n",
       "      <td>C6</td>\n",
       "    </tr>\n",
       "    <tr>\n",
       "      <th>VAR_0226</th>\n",
       "      <td>False</td>\n",
       "      <td>False</td>\n",
       "      <td>False</td>\n",
       "      <td>False</td>\n",
       "      <td>False</td>\n",
       "    </tr>\n",
       "    <tr>\n",
       "      <th>VAR_0229</th>\n",
       "      <td>False</td>\n",
       "      <td>False</td>\n",
       "      <td>False</td>\n",
       "      <td>False</td>\n",
       "      <td>False</td>\n",
       "    </tr>\n",
       "    <tr>\n",
       "      <th>VAR_0230</th>\n",
       "      <td>False</td>\n",
       "      <td>False</td>\n",
       "      <td>False</td>\n",
       "      <td>False</td>\n",
       "      <td>False</td>\n",
       "    </tr>\n",
       "    <tr>\n",
       "      <th>VAR_0232</th>\n",
       "      <td>True</td>\n",
       "      <td>False</td>\n",
       "      <td>True</td>\n",
       "      <td>False</td>\n",
       "      <td>True</td>\n",
       "    </tr>\n",
       "    <tr>\n",
       "      <th>VAR_0236</th>\n",
       "      <td>True</td>\n",
       "      <td>True</td>\n",
       "      <td>True</td>\n",
       "      <td>True</td>\n",
       "      <td>True</td>\n",
       "    </tr>\n",
       "    <tr>\n",
       "      <th>VAR_0237</th>\n",
       "      <td>FL</td>\n",
       "      <td>CA</td>\n",
       "      <td>WV</td>\n",
       "      <td>TX</td>\n",
       "      <td>IL</td>\n",
       "    </tr>\n",
       "    <tr>\n",
       "      <th>VAR_0239</th>\n",
       "      <td>False</td>\n",
       "      <td>False</td>\n",
       "      <td>False</td>\n",
       "      <td>False</td>\n",
       "      <td>False</td>\n",
       "    </tr>\n",
       "    <tr>\n",
       "      <th>VAR_0274</th>\n",
       "      <td>FL</td>\n",
       "      <td>MI</td>\n",
       "      <td>WV</td>\n",
       "      <td>TX</td>\n",
       "      <td>IL</td>\n",
       "    </tr>\n",
       "    <tr>\n",
       "      <th>VAR_0283</th>\n",
       "      <td>S</td>\n",
       "      <td>S</td>\n",
       "      <td>S</td>\n",
       "      <td>S</td>\n",
       "      <td>S</td>\n",
       "    </tr>\n",
       "    <tr>\n",
       "      <th>VAR_0305</th>\n",
       "      <td>S</td>\n",
       "      <td>S</td>\n",
       "      <td>P</td>\n",
       "      <td>P</td>\n",
       "      <td>P</td>\n",
       "    </tr>\n",
       "    <tr>\n",
       "      <th>VAR_0325</th>\n",
       "      <td>-1</td>\n",
       "      <td>H</td>\n",
       "      <td>R</td>\n",
       "      <td>H</td>\n",
       "      <td>S</td>\n",
       "    </tr>\n",
       "    <tr>\n",
       "      <th>VAR_0342</th>\n",
       "      <td>CF</td>\n",
       "      <td>EC</td>\n",
       "      <td>UU</td>\n",
       "      <td>-1</td>\n",
       "      <td>-1</td>\n",
       "    </tr>\n",
       "    <tr>\n",
       "      <th>VAR_0352</th>\n",
       "      <td>O</td>\n",
       "      <td>O</td>\n",
       "      <td>R</td>\n",
       "      <td>R</td>\n",
       "      <td>R</td>\n",
       "    </tr>\n",
       "    <tr>\n",
       "      <th>VAR_0353</th>\n",
       "      <td>U</td>\n",
       "      <td>R</td>\n",
       "      <td>R</td>\n",
       "      <td>R</td>\n",
       "      <td>U</td>\n",
       "    </tr>\n",
       "    <tr>\n",
       "      <th>VAR_0354</th>\n",
       "      <td>O</td>\n",
       "      <td>R</td>\n",
       "      <td>-1</td>\n",
       "      <td>-1</td>\n",
       "      <td>O</td>\n",
       "    </tr>\n",
       "    <tr>\n",
       "      <th>VAR_0404</th>\n",
       "      <td>CHIEF EXECUTIVE OFFICER</td>\n",
       "      <td>-1</td>\n",
       "      <td>-1</td>\n",
       "      <td>-1</td>\n",
       "      <td>-1</td>\n",
       "    </tr>\n",
       "    <tr>\n",
       "      <th>VAR_0466</th>\n",
       "      <td>-1</td>\n",
       "      <td>I</td>\n",
       "      <td>-1</td>\n",
       "      <td>-1</td>\n",
       "      <td>-1</td>\n",
       "    </tr>\n",
       "    <tr>\n",
       "      <th>VAR_0467</th>\n",
       "      <td>-1</td>\n",
       "      <td>Discharged</td>\n",
       "      <td>-1</td>\n",
       "      <td>-1</td>\n",
       "      <td>-1</td>\n",
       "    </tr>\n",
       "    <tr>\n",
       "      <th>VAR_0493</th>\n",
       "      <td>COMMUNITY ASSOCIATION MANAGER</td>\n",
       "      <td>-1</td>\n",
       "      <td>-1</td>\n",
       "      <td>-1</td>\n",
       "      <td>-1</td>\n",
       "    </tr>\n",
       "    <tr>\n",
       "      <th>VAR_1934</th>\n",
       "      <td>IAPS</td>\n",
       "      <td>IAPS</td>\n",
       "      <td>IAPS</td>\n",
       "      <td>RCC</td>\n",
       "      <td>BRANCH</td>\n",
       "    </tr>\n",
       "  </tbody>\n",
       "</table>\n",
       "</div>"
      ],
      "text/plain": [
       "                                      0                 1                 2  \\\n",
       "VAR_0001                              H                 H                 H   \n",
       "VAR_0005                              C                 B                 C   \n",
       "VAR_0008                          False             False             False   \n",
       "VAR_0009                          False             False             False   \n",
       "VAR_0010                          False             False             False   \n",
       "VAR_0011                          False             False             False   \n",
       "VAR_0012                          False             False             False   \n",
       "VAR_0043                          False             False             False   \n",
       "VAR_0044                             []                []                []   \n",
       "VAR_0073                            NaN  04SEP12:00:00:00               NaN   \n",
       "VAR_0075               08NOV11:00:00:00  10NOV11:00:00:00  13DEC11:00:00:00   \n",
       "VAR_0156                            NaN               NaN               NaN   \n",
       "VAR_0157                            NaN               NaN               NaN   \n",
       "VAR_0158                            NaN               NaN               NaN   \n",
       "VAR_0159                            NaN               NaN               NaN   \n",
       "VAR_0166                            NaN               NaN               NaN   \n",
       "VAR_0167                            NaN               NaN               NaN   \n",
       "VAR_0168                            NaN               NaN               NaN   \n",
       "VAR_0169                            NaN               NaN               NaN   \n",
       "VAR_0176                            NaN               NaN               NaN   \n",
       "VAR_0177                            NaN               NaN               NaN   \n",
       "VAR_0178                            NaN               NaN               NaN   \n",
       "VAR_0179                            NaN               NaN               NaN   \n",
       "VAR_0196                          False             False             False   \n",
       "VAR_0200                  FT LAUDERDALE            SANTEE        REEDSVILLE   \n",
       "VAR_0202                   BatchInquiry      BatchInquiry      BatchInquiry   \n",
       "VAR_0204               29JAN14:21:16:00  01FEB14:00:11:00  30JAN14:15:11:00   \n",
       "VAR_0214                            NaN               NaN               NaN   \n",
       "VAR_0216                             DS                DS                DS   \n",
       "VAR_0217               08NOV11:02:00:00  02OCT12:02:00:00  13DEC11:02:00:00   \n",
       "VAR_0222                             C6                C6                C6   \n",
       "VAR_0226                          False             False             False   \n",
       "VAR_0229                          False             False             False   \n",
       "VAR_0230                          False             False             False   \n",
       "VAR_0232                           True             False              True   \n",
       "VAR_0236                           True              True              True   \n",
       "VAR_0237                             FL                CA                WV   \n",
       "VAR_0239                          False             False             False   \n",
       "VAR_0274                             FL                MI                WV   \n",
       "VAR_0283                              S                 S                 S   \n",
       "VAR_0305                              S                 S                 P   \n",
       "VAR_0325                             -1                 H                 R   \n",
       "VAR_0342                             CF                EC                UU   \n",
       "VAR_0352                              O                 O                 R   \n",
       "VAR_0353                              U                 R                 R   \n",
       "VAR_0354                              O                 R                -1   \n",
       "VAR_0404        CHIEF EXECUTIVE OFFICER                -1                -1   \n",
       "VAR_0466                             -1                 I                -1   \n",
       "VAR_0467                             -1        Discharged                -1   \n",
       "VAR_0493  COMMUNITY ASSOCIATION MANAGER                -1                -1   \n",
       "VAR_1934                           IAPS              IAPS              IAPS   \n",
       "\n",
       "                         3                 4  \n",
       "VAR_0001                 H                 R  \n",
       "VAR_0005                 C                 N  \n",
       "VAR_0008             False             False  \n",
       "VAR_0009             False             False  \n",
       "VAR_0010             False             False  \n",
       "VAR_0011             False             False  \n",
       "VAR_0012             False             False  \n",
       "VAR_0043             False             False  \n",
       "VAR_0044                []                []  \n",
       "VAR_0073               NaN               NaN  \n",
       "VAR_0075  23SEP10:00:00:00  15OCT11:00:00:00  \n",
       "VAR_0156               NaN               NaN  \n",
       "VAR_0157               NaN               NaN  \n",
       "VAR_0158               NaN               NaN  \n",
       "VAR_0159               NaN               NaN  \n",
       "VAR_0166               NaN               NaN  \n",
       "VAR_0167               NaN               NaN  \n",
       "VAR_0168               NaN               NaN  \n",
       "VAR_0169               NaN               NaN  \n",
       "VAR_0176               NaN               NaN  \n",
       "VAR_0177               NaN               NaN  \n",
       "VAR_0178               NaN               NaN  \n",
       "VAR_0179               NaN               NaN  \n",
       "VAR_0196             False             False  \n",
       "VAR_0200           LIBERTY         FRANKFORT  \n",
       "VAR_0202      BatchInquiry      BatchInquiry  \n",
       "VAR_0204  01FEB14:00:07:00  29JAN14:19:31:00  \n",
       "VAR_0214               NaN               NaN  \n",
       "VAR_0216                DS                DS  \n",
       "VAR_0217  01NOV12:02:00:00  15OCT11:02:00:00  \n",
       "VAR_0222                C6                C6  \n",
       "VAR_0226             False             False  \n",
       "VAR_0229             False             False  \n",
       "VAR_0230             False             False  \n",
       "VAR_0232             False              True  \n",
       "VAR_0236              True              True  \n",
       "VAR_0237                TX                IL  \n",
       "VAR_0239             False             False  \n",
       "VAR_0274                TX                IL  \n",
       "VAR_0283                 S                 S  \n",
       "VAR_0305                 P                 P  \n",
       "VAR_0325                 H                 S  \n",
       "VAR_0342                -1                -1  \n",
       "VAR_0352                 R                 R  \n",
       "VAR_0353                 R                 U  \n",
       "VAR_0354                -1                 O  \n",
       "VAR_0404                -1                -1  \n",
       "VAR_0466                -1                -1  \n",
       "VAR_0467                -1                -1  \n",
       "VAR_0493                -1                -1  \n",
       "VAR_1934               RCC            BRANCH  "
      ]
     },
     "execution_count": 42,
     "metadata": {},
     "output_type": "execute_result"
    }
   ],
   "source": [
    "train.loc[:,cat_cols].head().T"
   ]
  },
  {
   "cell_type": "markdown",
   "metadata": {},
   "source": [
    "`VAR_0200`, `VAR_0237`, `VAR_0274` look like some georgraphical data thus one could generate geography related features, we will talk later in the course.\n",
    "\n",
    "There are some features, that are hard to identify, but look, there a date columns `VAR_0073` -- `VAR_0179`, `VAR_0204`, `VAR_0217`. It is useful to plot one date against another to find relationships. "
   ]
  },
  {
   "cell_type": "code",
   "execution_count": 43,
   "metadata": {
    "ExecuteTime": {
     "end_time": "2022-05-26T15:25:22.621549Z",
     "start_time": "2022-05-26T15:25:17.774992Z"
    }
   },
   "outputs": [],
   "source": [
    "date_cols = [u'VAR_0073','VAR_0075',\n",
    "             u'VAR_0156',u'VAR_0157',u'VAR_0158','VAR_0159',\n",
    "             u'VAR_0166', u'VAR_0167',u'VAR_0168',u'VAR_0169',\n",
    "             u'VAR_0176',u'VAR_0177',u'VAR_0178',u'VAR_0179',\n",
    "             u'VAR_0204',\n",
    "             u'VAR_0217']\n",
    "\n",
    "for c in date_cols:\n",
    "    train[c] = pd.to_datetime(train[c],format = '%d%b%y:%H:%M:%S')\n",
    "    test[c] = pd.to_datetime(test[c],  format = '%d%b%y:%H:%M:%S')"
   ]
  },
  {
   "cell_type": "code",
   "execution_count": 44,
   "metadata": {
    "ExecuteTime": {
     "end_time": "2022-05-26T15:25:22.712539Z",
     "start_time": "2022-05-26T15:25:22.626300Z"
    }
   },
   "outputs": [
    {
     "ename": "NameError",
     "evalue": "name 'sc2' is not defined",
     "output_type": "error",
     "traceback": [
      "\u001b[0;31m---------------------------------------------------------------------------\u001b[0m",
      "\u001b[0;31mNameError\u001b[0m                                 Traceback (most recent call last)",
      "Input \u001b[0;32mIn [44]\u001b[0m, in \u001b[0;36m<module>\u001b[0;34m\u001b[0m\n\u001b[1;32m      4\u001b[0m \u001b[38;5;66;03m# mask = (~test[c1].isnull()) & (~test[c2].isnull())\u001b[39;00m\n\u001b[1;32m      5\u001b[0m \u001b[38;5;66;03m# sc2(test.ix[mask,c1].values,test.ix[mask,c2].values,alpha=0.7,c = 'black')\u001b[39;00m\n\u001b[1;32m      7\u001b[0m mask \u001b[38;5;241m=\u001b[39m (\u001b[38;5;241m~\u001b[39mtrain[c1]\u001b[38;5;241m.\u001b[39misnull()) \u001b[38;5;241m&\u001b[39m (\u001b[38;5;241m~\u001b[39mtrain[c2]\u001b[38;5;241m.\u001b[39misnull())\n\u001b[0;32m----> 8\u001b[0m \u001b[43msc2\u001b[49m(train\u001b[38;5;241m.\u001b[39mloc[mask,c1]\u001b[38;5;241m.\u001b[39mvalues,train\u001b[38;5;241m.\u001b[39mloc[mask,c2]\u001b[38;5;241m.\u001b[39mvalues,c\u001b[38;5;241m=\u001b[39mtrain\u001b[38;5;241m.\u001b[39mloc[mask,\u001b[38;5;124m'\u001b[39m\u001b[38;5;124mtarget\u001b[39m\u001b[38;5;124m'\u001b[39m]\u001b[38;5;241m.\u001b[39mvalues)\n",
      "\u001b[0;31mNameError\u001b[0m: name 'sc2' is not defined"
     ]
    }
   ],
   "source": [
    "c1 = 'VAR_0217'\n",
    "c2 = 'VAR_0073'\n",
    "\n",
    "# mask = (~test[c1].isnull()) & (~test[c2].isnull())\n",
    "# sc2(test.ix[mask,c1].values,test.ix[mask,c2].values,alpha=0.7,c = 'black')\n",
    "\n",
    "mask = (~train[c1].isnull()) & (~train[c2].isnull())\n",
    "sc2(train.loc[mask,c1].values,train.loc[mask,c2].values,c=train.loc[mask,'target'].values)"
   ]
  },
  {
   "cell_type": "markdown",
   "metadata": {},
   "source": [
    "We see that one date is strictly greater than the other, so the difference between them can be a good feature. Also look at horizontal line there -- it also looks like NaN, so I would rather create a new binary feature which will serve as an idicator that our time feature is NaN."
   ]
  },
  {
   "cell_type": "code",
   "execution_count": null,
   "metadata": {},
   "outputs": [],
   "source": []
  }
 ],
 "metadata": {
  "active_cell_tags": [
   "30"
  ],
  "kernelspec": {
   "display_name": "Python 3 (ipykernel)",
   "language": "python",
   "name": "python3"
  },
  "language_info": {
   "codemirror_mode": {
    "name": "ipython",
    "version": 3
   },
   "file_extension": ".py",
   "mimetype": "text/x-python",
   "name": "python",
   "nbconvert_exporter": "python",
   "pygments_lexer": "ipython3",
   "version": "3.9.12"
  },
  "notify_time": "0"
 },
 "nbformat": 4,
 "nbformat_minor": 1
}
